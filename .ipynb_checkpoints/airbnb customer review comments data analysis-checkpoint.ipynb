{
 "cells": [
  {
   "cell_type": "markdown",
   "metadata": {},
   "source": [
    "# Seattle and Boston airbnb customer review data process"
   ]
  },
  {
   "cell_type": "markdown",
   "metadata": {},
   "source": [
    "This note book will describe how I process the customer review data from Seattle and Boston Airbnb.\n",
    "This notebook is more like a tutorial to help myself go through a natrual language process."
   ]
  },
  {
   "cell_type": "code",
   "execution_count": 2,
   "metadata": {},
   "outputs": [],
   "source": [
    "#import necessary library"
   ]
  },
  {
   "cell_type": "code",
   "execution_count": 33,
   "metadata": {},
   "outputs": [],
   "source": [
    "import pandas as pd\n",
    "import matplotlib.pyplot as plt\n",
    "import seaborn as sns\n",
    "import string\n",
    "from nltk.corpus import stopwords\n",
    "#import nltk\n",
    "#nltk.download('stopwords')\n",
    "from sklearn.feature_extraction.text import CountVectorizer\n",
    "from sklearn.feature_extraction.text import TfidfTransformer\n",
    "%matplotlib inline"
   ]
  },
  {
   "cell_type": "code",
   "execution_count": 2,
   "metadata": {},
   "outputs": [],
   "source": [
    "seattle_reviews=pd.read_csv(\"seattle/reviews.csv\")"
   ]
  },
  {
   "cell_type": "code",
   "execution_count": 5,
   "metadata": {},
   "outputs": [
    {
     "data": {
      "text/html": [
       "<div>\n",
       "<style scoped>\n",
       "    .dataframe tbody tr th:only-of-type {\n",
       "        vertical-align: middle;\n",
       "    }\n",
       "\n",
       "    .dataframe tbody tr th {\n",
       "        vertical-align: top;\n",
       "    }\n",
       "\n",
       "    .dataframe thead th {\n",
       "        text-align: right;\n",
       "    }\n",
       "</style>\n",
       "<table border=\"1\" class=\"dataframe\">\n",
       "  <thead>\n",
       "    <tr style=\"text-align: right;\">\n",
       "      <th></th>\n",
       "      <th>listing_id</th>\n",
       "      <th>id</th>\n",
       "      <th>date</th>\n",
       "      <th>reviewer_id</th>\n",
       "      <th>reviewer_name</th>\n",
       "      <th>comments</th>\n",
       "    </tr>\n",
       "  </thead>\n",
       "  <tbody>\n",
       "    <tr>\n",
       "      <th>0</th>\n",
       "      <td>7202016</td>\n",
       "      <td>38917982</td>\n",
       "      <td>2015-07-19</td>\n",
       "      <td>28943674</td>\n",
       "      <td>Bianca</td>\n",
       "      <td>Cute and cozy place. Perfect location to every...</td>\n",
       "    </tr>\n",
       "    <tr>\n",
       "      <th>1</th>\n",
       "      <td>7202016</td>\n",
       "      <td>39087409</td>\n",
       "      <td>2015-07-20</td>\n",
       "      <td>32440555</td>\n",
       "      <td>Frank</td>\n",
       "      <td>Kelly has a great room in a very central locat...</td>\n",
       "    </tr>\n",
       "    <tr>\n",
       "      <th>2</th>\n",
       "      <td>7202016</td>\n",
       "      <td>39820030</td>\n",
       "      <td>2015-07-26</td>\n",
       "      <td>37722850</td>\n",
       "      <td>Ian</td>\n",
       "      <td>Very spacious apartment, and in a great neighb...</td>\n",
       "    </tr>\n",
       "    <tr>\n",
       "      <th>3</th>\n",
       "      <td>7202016</td>\n",
       "      <td>40813543</td>\n",
       "      <td>2015-08-02</td>\n",
       "      <td>33671805</td>\n",
       "      <td>George</td>\n",
       "      <td>Close to Seattle Center and all it has to offe...</td>\n",
       "    </tr>\n",
       "    <tr>\n",
       "      <th>4</th>\n",
       "      <td>7202016</td>\n",
       "      <td>41986501</td>\n",
       "      <td>2015-08-10</td>\n",
       "      <td>34959538</td>\n",
       "      <td>Ming</td>\n",
       "      <td>Kelly was a great host and very accommodating ...</td>\n",
       "    </tr>\n",
       "  </tbody>\n",
       "</table>\n",
       "</div>"
      ],
      "text/plain": [
       "   listing_id        id        date  reviewer_id reviewer_name  \\\n",
       "0     7202016  38917982  2015-07-19     28943674        Bianca   \n",
       "1     7202016  39087409  2015-07-20     32440555         Frank   \n",
       "2     7202016  39820030  2015-07-26     37722850           Ian   \n",
       "3     7202016  40813543  2015-08-02     33671805        George   \n",
       "4     7202016  41986501  2015-08-10     34959538          Ming   \n",
       "\n",
       "                                            comments  \n",
       "0  Cute and cozy place. Perfect location to every...  \n",
       "1  Kelly has a great room in a very central locat...  \n",
       "2  Very spacious apartment, and in a great neighb...  \n",
       "3  Close to Seattle Center and all it has to offe...  \n",
       "4  Kelly was a great host and very accommodating ...  "
      ]
     },
     "execution_count": 5,
     "metadata": {},
     "output_type": "execute_result"
    }
   ],
   "source": [
    "seattle_reviews.head()"
   ]
  },
  {
   "cell_type": "code",
   "execution_count": 6,
   "metadata": {},
   "outputs": [
    {
     "data": {
      "text/plain": [
       "(84849, 6)"
      ]
     },
     "execution_count": 6,
     "metadata": {},
     "output_type": "execute_result"
    }
   ],
   "source": [
    "seattle_reviews.shape"
   ]
  },
  {
   "cell_type": "code",
   "execution_count": 71,
   "metadata": {},
   "outputs": [],
   "source": [
    "seattle_reviews_cleaned=seattle_reviews[seattle_reviews['comments'].isnull()==False]"
   ]
  },
  {
   "cell_type": "code",
   "execution_count": 8,
   "metadata": {},
   "outputs": [
    {
     "name": "stderr",
     "output_type": "stream",
     "text": [
      "C:\\Users\\xhc\\Anaconda3\\lib\\site-packages\\ipykernel_launcher.py:1: SettingWithCopyWarning: \n",
      "A value is trying to be set on a copy of a slice from a DataFrame.\n",
      "Try using .loc[row_indexer,col_indexer] = value instead\n",
      "\n",
      "See the caveats in the documentation: http://pandas.pydata.org/pandas-docs/stable/indexing.html#indexing-view-versus-copy\n",
      "  \"\"\"Entry point for launching an IPython kernel.\n"
     ]
    }
   ],
   "source": [
    "seattle_reviews_cleaned['length']=seattle_reviews_cleaned['comments'].apply(len)"
   ]
  },
  {
   "cell_type": "code",
   "execution_count": 9,
   "metadata": {},
   "outputs": [
    {
     "data": {
      "text/plain": [
       "<matplotlib.axes._subplots.AxesSubplot at 0x1f3a83e2320>"
      ]
     },
     "execution_count": 9,
     "metadata": {},
     "output_type": "execute_result"
    },
    {
     "data": {
      "image/png": "[encoded data removed]",
      "text/plain": [
       "<Figure size 432x288 with 1 Axes>"
      ]
     },
     "metadata": {
      "needs_background": "light"
     },
     "output_type": "display_data"
    }
   ],
   "source": [
    "seattle_reviews_cleaned['length'].plot.hist(bins=100)"
   ]
  },
  {
   "cell_type": "code",
   "execution_count": 10,
   "metadata": {},
   "outputs": [
    {
     "data": {
      "text/plain": [
       "\"CURLERS - this is the perfect location when you are competing at the Granite Curling Club (GCC.)  The Heller Lake Log Cabin was not only in a better location than the local hotels but was cheaper and much nicer than the places our friends stayed this weekend.  And for larger groups there is also a house for rental on the same property.  \\r\\n\\r\\nWe flew into town for a Bonspiel (curling tournament) at the Granite Curling Club and this was the perfect location.  The club had a deal with some of the local hotels but when I looked into it they were 1) much farther away and 2) more expensive.  We were able to walk to GCC, which was only about three blocks away, while everyone else had to drive back and forth between the club and their hotel.  \\r\\n\\r\\nThe cabin is so nice and in such a great location for us that it makes the decision to return for future Bonspiels an easy one.  With there also being a house for rent on the same property we will likely have our whole team stay with us next time which will make for a much better trip while saving everyone money over the local hotel rates and save people time because they won't have to drive as far.\\r\\n\\r\\nEven if you are coming to Seattle as a tourist instead of a curler, the location is great.  Even though it is north of downtown we were able to get back and forth to the airport quickly, even with traffic on our way back.  And downtown was easily accessed by car by either the freeway or Aurora Ave and when we didn't want to take the car there are buses running straight down Aurora to both the Fremont District (think Berkeley) and downtown.  \\r\\n\\r\\nAs mentioned by others, the cabin can get a little chilly at night but it wasn't an issue at all for us.  The space heaters are enough to keep it from becoming uncomfortable and the bed was not only comfortable but very warm.  With a fridge, coffee maker, and hotplate we had almost everything we needed.  (Bring a hairdryer if you require one but be kind to the electrical system by turning off some lights and the heater before firing it up.  We had no issues but I was an electrician and advise everyone to do that even when at home.)  Although we didn't get a chance to use them, there were even fishing poles by the front door for relaxing by the lake.\\r\\n\\r\\nRoberta and Dan were wonderful hosts and we absolutely loved the Heller Lake Log Cabin.  Even though we arrived after midnight and had to depart at an odd hour in the afternoon, Roberta and Dan were so accomodating that we didn't have to worry about anything.  The direction to the cabin were spot on, which was especially nice because we arrived after dark.\\r\\n\\r\\nWe are looking forward to adding the Heller Lake Log Cabin to our regular list of fun weekend trips.  (Although it is a bit of a drive, check out Skillet Diner in Capital Hill for some incredible eats.  And if you make it to Pikes Place don't miss the mini-donut vendor who is on the street level.  For 24 hour a day dining (our first curling match started at 7am) Beth's is just a short drive south on Aurora Avenue and is a local favorite.)\\r\\n\\r\\nAll in all this was a wonderful location to stay at and we look forward to many more trips to this property.  You simple cannot go wrong with this location and Roberta and Dan as hosts, whether you are staying for a Bonspiel, just looking for a local get-away (it was nice and quiet), or visiting in full tourist mode.  We are already checking the calendar to see when we can get back up for a visit.\""
      ]
     },
     "execution_count": 10,
     "metadata": {},
     "output_type": "execute_result"
    }
   ],
   "source": [
    "seattle_reviews_cleaned[seattle_reviews_cleaned['length']==3472]['comments'].iloc[0]"
   ]
  },
  {
   "cell_type": "markdown",
   "metadata": {},
   "source": [
    "## remove punctuation and non-english characters"
   ]
  },
  {
   "cell_type": "markdown",
   "metadata": {},
   "source": [
    "Now it is time to do some encoding on the comments\n",
    "Each comments contains punctuation. I want to exlcude or remove these punctuation from comments\n",
    "In addtions, the comments is a mixture of english and non-english characters. In this project, I want to deal with English comments. Therefore, texts in other language needs to be filter out."
   ]
  },
  {
   "cell_type": "markdown",
   "metadata": {},
   "source": [
    "here is an example to remove punctuation"
   ]
  },
  {
   "cell_type": "code",
   "execution_count": 72,
   "metadata": {},
   "outputs": [],
   "source": [
    "# lets put the first comment to a, a will be a string\n",
    "first_comment=seattle_reviews_cleaned['comments'][0]"
   ]
  },
  {
   "cell_type": "code",
   "execution_count": 73,
   "metadata": {},
   "outputs": [
    {
     "data": {
      "text/plain": [
       "'Cute and cozy place. Perfect location to everything! '"
      ]
     },
     "execution_count": 73,
     "metadata": {},
     "output_type": "execute_result"
    }
   ],
   "source": [
    "first_comment"
   ]
  },
  {
   "cell_type": "code",
   "execution_count": 12,
   "metadata": {},
   "outputs": [],
   "source": [
    "#remove the punctuation in the first_comment and store into nonpunc_comment\n",
    "#the nonpunc_comment will be a list of string, each alphebet will be a str in this list\n",
    "# space is also included as a single element in the list\n",
    "nonpunc_comment=[x for x in first_comment if x not in string.punctuation]"
   ]
  },
  {
   "cell_type": "code",
   "execution_count": 13,
   "metadata": {},
   "outputs": [
    {
     "data": {
      "text/plain": [
       "['C', 'u', 't', 'e', ' ', 'a', 'n', 'd', ' ', 'c']"
      ]
     },
     "execution_count": 13,
     "metadata": {},
     "output_type": "execute_result"
    }
   ],
   "source": [
    "#for example\n",
    "nonpunc_comment[0:10]"
   ]
  },
  {
   "cell_type": "code",
   "execution_count": 14,
   "metadata": {},
   "outputs": [],
   "source": [
    "# use .join to put all the string together. \n",
    "#\"\"will be added between each element in this str list. \n",
    "#Since there is nothing in the \"\", all the element will combine together\n",
    "nonpunc_comment=\"\".join(nonpunc_comment)"
   ]
  },
  {
   "cell_type": "code",
   "execution_count": 15,
   "metadata": {},
   "outputs": [
    {
     "data": {
      "text/plain": [
       "'Cute and cozy place Perfect location to everything '"
      ]
     },
     "execution_count": 15,
     "metadata": {},
     "output_type": "execute_result"
    }
   ],
   "source": [
    "nonpunc_comment"
   ]
  },
  {
   "cell_type": "markdown",
   "metadata": {},
   "source": [
    "example to remove non-english texts"
   ]
  },
  {
   "cell_type": "code",
   "execution_count": 59,
   "metadata": {},
   "outputs": [
    {
     "name": "stderr",
     "output_type": "stream",
     "text": [
      "[nltk_data] Downloading package words to\n",
      "[nltk_data]     C:\\Users\\xhc\\AppData\\Roaming\\nltk_data...\n",
      "[nltk_data]   Unzipping corpora\\words.zip.\n"
     ]
    },
    {
     "data": {
      "text/plain": [
       "True"
      ]
     },
     "execution_count": 59,
     "metadata": {},
     "output_type": "execute_result"
    }
   ],
   "source": [
    "import nltk\n",
    "nltk.download('words')"
   ]
  },
  {
   "cell_type": "code",
   "execution_count": 60,
   "metadata": {},
   "outputs": [],
   "source": [
    "englishwords=set(nltk.corpus.words.words())"
   ]
  },
  {
   "cell_type": "code",
   "execution_count": 95,
   "metadata": {},
   "outputs": [],
   "source": [
    "example_mix_sentence=\"我很高兴 I am so happy muy contento\""
   ]
  },
  {
   "cell_type": "code",
   "execution_count": 96,
   "metadata": {},
   "outputs": [],
   "source": [
    "non_english_example=[x for x in example_mix_sentence.split() if x.lower() in englishwords or not x.isalpha()]"
   ]
  },
  {
   "cell_type": "code",
   "execution_count": 97,
   "metadata": {},
   "outputs": [
    {
     "data": {
      "text/plain": [
       "['I', 'am', 'so', 'happy']"
      ]
     },
     "execution_count": 97,
     "metadata": {},
     "output_type": "execute_result"
    }
   ],
   "source": [
    "non_english_example"
   ]
  },
  {
   "cell_type": "markdown",
   "metadata": {},
   "source": [
    "## remove stop words"
   ]
  },
  {
   "cell_type": "markdown",
   "metadata": {},
   "source": [
    "There are some commons words, such as they, it , has and so on that exists in the comments. \n",
    "We want to remove them. In this case, we can use nltk.corpus library's stopwords"
   ]
  },
  {
   "cell_type": "code",
   "execution_count": 16,
   "metadata": {},
   "outputs": [],
   "source": [
    "import nltk"
   ]
  },
  {
   "cell_type": "code",
   "execution_count": 17,
   "metadata": {},
   "outputs": [
    {
     "name": "stderr",
     "output_type": "stream",
     "text": [
      "[nltk_data] Downloading package stopwords to\n",
      "[nltk_data]     C:\\Users\\xhc\\AppData\\Roaming\\nltk_data...\n",
      "[nltk_data]   Package stopwords is already up-to-date!\n"
     ]
    },
    {
     "data": {
      "text/plain": [
       "True"
      ]
     },
     "execution_count": 17,
     "metadata": {},
     "output_type": "execute_result"
    }
   ],
   "source": [
    "nltk.download('stopwords')"
   ]
  },
  {
   "cell_type": "code",
   "execution_count": 18,
   "metadata": {},
   "outputs": [],
   "source": [
    "#remove the stopwords\n",
    "#make sure to use .lower(), since comments contain captial words\n",
    "clean_comment=[x for x in nonpunc_comment.split() if x.lower() not in stopwords.words(\"english\") ]"
   ]
  },
  {
   "cell_type": "code",
   "execution_count": 19,
   "metadata": {},
   "outputs": [
    {
     "data": {
      "text/plain": [
       "['Cute', 'cozy', 'place', 'Perfect', 'location', 'everything']"
      ]
     },
     "execution_count": 19,
     "metadata": {},
     "output_type": "execute_result"
    }
   ],
   "source": [
    "#here we go\n",
    "clean_comment"
   ]
  },
  {
   "cell_type": "markdown",
   "metadata": {},
   "source": [
    "## pack removing punctuation and stopwords together"
   ]
  },
  {
   "cell_type": "code",
   "execution_count": 88,
   "metadata": {},
   "outputs": [],
   "source": [
    "def text_clean(comments):\n",
    "    \"\"\"\n",
    "    input: a string\n",
    "    output: a clean string\n",
    "    process: remove punctuation, remove stopwords\n",
    "    \"\"\"\n",
    "    englishwords=set(nltk.corpus.words.words())\n",
    "    \n",
    "    nonpunc_comment=[x for x in comments if x not in string.punctuation]\n",
    "    nonpunc_comment=\"\".join(nonpunc_comment)\n",
    "    clean_comment=[x for x in nonpunc_comment.split() if x.lower() in englishwords or not x.isalpha() or not stopwords.words(\"english\") ]\n",
    "    \n",
    "    return clean_comment"
   ]
  },
  {
   "cell_type": "markdown",
   "metadata": {},
   "source": [
    "text_clean can not work on nan value, so when apply it to a df, the column that contain text has to be nan free"
   ]
  },
  {
   "cell_type": "code",
   "execution_count": 21,
   "metadata": {},
   "outputs": [],
   "source": [
    "def data_text_clean(df,columns):\n",
    "    \"\"\"\n",
    "    input: df       dataframe\n",
    "           columns  the column name that contains text string\n",
    "    output: cleaned dataframe with cleaned text\n",
    "            removed nan in columns with text string\n",
    "            apply text_clean function to remove punctuation, stopwords\n",
    "    \"\"\"\n",
    "    \n",
    "    newdf=df[df[columns].isnull()==False]\n",
    "    newdf[columns]=newdf[columns].apply(text_clean)\n",
    "    return newdf"
   ]
  },
  {
   "cell_type": "markdown",
   "metadata": {},
   "source": [
    "now apply the clean function to the dataframe"
   ]
  },
  {
   "cell_type": "code",
   "execution_count": 22,
   "metadata": {},
   "outputs": [
    {
     "name": "stderr",
     "output_type": "stream",
     "text": [
      "C:\\Users\\xhc\\Anaconda3\\lib\\site-packages\\ipykernel_launcher.py:11: SettingWithCopyWarning: \n",
      "A value is trying to be set on a copy of a slice from a DataFrame.\n",
      "Try using .loc[row_indexer,col_indexer] = value instead\n",
      "\n",
      "See the caveats in the documentation: http://pandas.pydata.org/pandas-docs/stable/indexing.html#indexing-view-versus-copy\n",
      "  # This is added back by InteractiveShellApp.init_path()\n"
     ]
    }
   ],
   "source": [
    "seattle_reviews_cleaned=data_text_clean(seattle_reviews,'comments')"
   ]
  },
  {
   "cell_type": "markdown",
   "metadata": {},
   "source": [
    "save the cleaned data to file, since it takes a while to process the data"
   ]
  },
  {
   "cell_type": "code",
   "execution_count": 23,
   "metadata": {},
   "outputs": [],
   "source": [
    "seattle_reviews_cleaned.to_csv('seattle_reviews_cleaned.csv', sep=';', index = False)"
   ]
  },
  {
   "cell_type": "markdown",
   "metadata": {},
   "source": [
    "load the check point savved data"
   ]
  },
  {
   "cell_type": "code",
   "execution_count": 3,
   "metadata": {},
   "outputs": [],
   "source": [
    "seattle_reviews_cleaned=pd.read_csv(\"seattle_reviews_cleaned.csv\", sep=';')"
   ]
  },
  {
   "cell_type": "markdown",
   "metadata": {},
   "source": [
    "## perform count vectorization"
   ]
  },
  {
   "cell_type": "markdown",
   "metadata": {},
   "source": [
    "### use sklearn to perform count vectorization"
   ]
  },
  {
   "cell_type": "code",
   "execution_count": 15,
   "metadata": {},
   "outputs": [],
   "source": [
    "comments_vectorizer=CountVectorizer()\n",
    "vectorized_seattle_reviews=comments_vectorizer.fit_transform(seattle_reviews_cleaned['comments'])"
   ]
  },
  {
   "cell_type": "markdown",
   "metadata": {},
   "source": [
    "show how mamy words are included in all vocabulary"
   ]
  },
  {
   "cell_type": "code",
   "execution_count": 39,
   "metadata": {},
   "outputs": [
    {
     "data": {
      "text/plain": [
       "54034"
      ]
     },
     "execution_count": 39,
     "metadata": {},
     "output_type": "execute_result"
    }
   ],
   "source": [
    "len(comments_vectorizer.vocabulary_)"
   ]
  },
  {
   "cell_type": "code",
   "execution_count": 17,
   "metadata": {},
   "outputs": [
    {
     "data": {
      "text/plain": [
       "(84831, 54034)"
      ]
     },
     "execution_count": 17,
     "metadata": {},
     "output_type": "execute_result"
    }
   ],
   "source": [
    "# the shape shows that each index will follow by a vector, the vector contains all 54034 unqiue words that appear in comments\n",
    "vectorized_seattle_reviews.shape"
   ]
  },
  {
   "cell_type": "code",
   "execution_count": 31,
   "metadata": {},
   "outputs": [
    {
     "data": {
      "text/plain": [
       "0.0006041856586968253"
      ]
     },
     "execution_count": 31,
     "metadata": {},
     "output_type": "execute_result"
    }
   ],
   "source": [
    "# check the sparsit: he number of zero-valued elements divided by the total number of elements \n",
    "vectorized_seattle_reviews.nnz/(vectorized_seattle_reviews.shape[0]*vectorized_seattle_reviews.shape[1])"
   ]
  },
  {
   "cell_type": "code",
   "execution_count": 47,
   "metadata": {},
   "outputs": [
    {
     "name": "stdout",
     "output_type": "stream",
     "text": [
      "  (0, 11288)\t1\n",
      "  (0, 11752)\t1\n",
      "  (0, 15971)\t1\n",
      "  (0, 26676)\t1\n",
      "  (0, 33170)\t1\n",
      "  (0, 33837)\t1\n",
      "  (1, 3813)\t1\n",
      "  (1, 5488)\t1\n",
      "  (1, 7315)\t1\n",
      "  (1, 8430)\t1\n",
      "  (1, 8451)\t1\n",
      "  (1, 8907)\t1\n",
      "  (1, 16171)\t1\n",
      "  (1, 16936)\t1\n",
      "  (1, 16995)\t1\n",
      "  (1, 17630)\t1\n",
      "  (1, 17864)\t1\n",
      "  (1, 19334)\t1\n",
      "  (1, 19770)\t2\n",
      "  (1, 20166)\t1\n",
      "  (1, 21513)\t1\n",
      "  (1, 24755)\t1\n",
      "  (1, 26301)\t1\n",
      "  (1, 26676)\t1\n",
      "  (1, 27492)\t1\n",
      "  :\t:\n",
      "  (84830, 6971)\t1\n",
      "  (84830, 8753)\t1\n",
      "  (84830, 8800)\t1\n",
      "  (84830, 9319)\t1\n",
      "  (84830, 9942)\t1\n",
      "  (84830, 12390)\t1\n",
      "  (84830, 12688)\t1\n",
      "  (84830, 14530)\t1\n",
      "  (84830, 15903)\t1\n",
      "  (84830, 19770)\t1\n",
      "  (84830, 21803)\t1\n",
      "  (84830, 24246)\t1\n",
      "  (84830, 25948)\t1\n",
      "  (84830, 26083)\t1\n",
      "  (84830, 27019)\t1\n",
      "  (84830, 29521)\t1\n",
      "  (84830, 33837)\t1\n",
      "  (84830, 34415)\t1\n",
      "  (84830, 37626)\t1\n",
      "  (84830, 38745)\t1\n",
      "  (84830, 41951)\t1\n",
      "  (84830, 42403)\t1\n",
      "  (84830, 44668)\t1\n",
      "  (84830, 45049)\t1\n",
      "  (84830, 49255)\t1\n"
     ]
    }
   ],
   "source": [
    "print(vectorized_seattle_reviews)"
   ]
  },
  {
   "cell_type": "markdown",
   "metadata": {},
   "source": [
    "pack everyting together"
   ]
  },
  {
   "cell_type": "code",
   "execution_count": null,
   "metadata": {},
   "outputs": [],
   "source": [
    "def comments_vectorization(overalldf,regionaldf,col_name=\"comments\"):\n",
    "    \"\"\"\n",
    "    input: \n",
    "    \"\"\"\n",
    "    vectorizer=CountVectorizer()\n",
    "    vectorizer.fit(overalldf[col_name])\n",
    "    vectorized_regionaldf=vectorizer.transform(regionaldf[col_name])\n",
    "    return vectorizer,vectorized_regionaldf"
   ]
  },
  {
   "cell_type": "markdown",
   "metadata": {},
   "source": [
    "### count frequency words"
   ]
  },
  {
   "cell_type": "code",
   "execution_count": 48,
   "metadata": {},
   "outputs": [],
   "source": [
    "sum_comments_words=vectorized_seattle_reviews.sum(axis=0)"
   ]
  },
  {
   "cell_type": "code",
   "execution_count": 54,
   "metadata": {},
   "outputs": [],
   "source": [
    "freq_comments_words=[(x, sum_comments_words[0,i]) for x,i in comments_vectorizer.vocabulary_.items()] "
   ]
  },
  {
   "cell_type": "code",
   "execution_count": 56,
   "metadata": {},
   "outputs": [
    {
     "data": {
      "text/plain": [
       "[('cute', 3489),\n",
       " ('cozy', 7692),\n",
       " ('place', 45407),\n",
       " ('perfect', 16190),\n",
       " ('location', 28558),\n",
       " ('everything', 19720),\n",
       " ('kelly', 369),\n",
       " ('great', 60776),\n",
       " ('room', 20704),\n",
       " ('central', 1487),\n",
       " ('beautiful', 9682),\n",
       " ('building', 2943),\n",
       " ('architecture', 62),\n",
       " ('style', 442),\n",
       " ('really', 16295),\n",
       " ('like', 9993),\n",
       " ('felt', 6540),\n",
       " ('guite', 1),\n",
       " ('home', 20232),\n",
       " ('wish', 1304),\n",
       " ('spent', 1597),\n",
       " ('time', 17770),\n",
       " ('went', 3066),\n",
       " ('walk', 10618),\n",
       " ('found', 2926),\n",
       " ('seattle', 39526),\n",
       " ('center', 2349),\n",
       " ('major', 835),\n",
       " ('food', 2936),\n",
       " ('festival', 88),\n",
       " ('progress', 36),\n",
       " ('treat', 574),\n",
       " ('visited', 569),\n",
       " ('space', 13972),\n",
       " ('needle', 2220),\n",
       " ('chihuly', 135),\n",
       " ('glass', 353),\n",
       " ('exhibit', 32),\n",
       " ('pikes', 1114),\n",
       " ('market', 3671),\n",
       " ('wow', 296),\n",
       " ('thanks', 7361),\n",
       " ('stay', 51984),\n",
       " ('spacious', 4797),\n",
       " ('apartment', 25840),\n",
       " ('neighborhood', 18124),\n",
       " ('kind', 3699),\n",
       " ('didnt', 6791),\n",
       " ('get', 11327),\n",
       " ('meet', 3456),\n",
       " ('always', 3436),\n",
       " ('readily', 293),\n",
       " ('available', 4489),\n",
       " ('phone', 814),\n",
       " ('believe', 234),\n",
       " ('issue', 1226),\n",
       " ('want', 3412),\n",
       " ('call', 655),\n",
       " ('finding', 692),\n",
       " ('park', 3669),\n",
       " ('sincerely', 54),\n",
       " ('doubt', 194),\n",
       " ('easy', 17939),\n",
       " ('anywhere', 951),\n",
       " ('residential', 921),\n",
       " ('area', 11523),\n",
       " ('pm', 201),\n",
       " ('friday', 159),\n",
       " ('close', 11783),\n",
       " ('offer', 995),\n",
       " ('ballet', 11),\n",
       " ('theater', 106),\n",
       " ('museum', 357),\n",
       " ('restaurants', 11296),\n",
       " ('ilk', 1),\n",
       " ('blocks', 3124),\n",
       " ('away', 7815),\n",
       " ('metropolitan', 62),\n",
       " ('probably', 818),\n",
       " ('coolest', 104),\n",
       " ('grocer', 15),\n",
       " ('youll', 639),\n",
       " ('ever', 2540),\n",
       " ('find', 3912),\n",
       " ('warm', 4437),\n",
       " ('welcoming', 7545),\n",
       " ('interesting', 1302),\n",
       " ('talk', 884),\n",
       " ('host', 20726),\n",
       " ('accommodating', 6644),\n",
       " ('coffee', 8186),\n",
       " ('wasnt', 1735),\n",
       " ('around', 8486),\n",
       " ('much', 7741),\n",
       " ('interacting', 36),\n",
       " ('pleasant', 2718),\n",
       " ('lot', 4216),\n",
       " ('good', 11495),\n",
       " ('well', 15275),\n",
       " ('looking', 3701),\n",
       " ('clean', 29126),\n",
       " ('simple', 1315),\n",
       " ('kept', 1512),\n",
       " ('min', 1283),\n",
       " ('bike', 599),\n",
       " ('share', 576),\n",
       " ('aug', 10),\n",
       " ('2015', 54),\n",
       " ('used', 1832),\n",
       " ('week', 1759),\n",
       " ('nice', 23050),\n",
       " ('expected', 1525),\n",
       " ('comfortable', 25044),\n",
       " ('overall', 4066),\n",
       " ('would', 26129),\n",
       " ('book', 1860),\n",
       " ('hola', 2),\n",
       " ('bnb', 677),\n",
       " ('erz', 1),\n",
       " ('left', 4545),\n",
       " ('simply', 494),\n",
       " ('fantastic', 5120),\n",
       " ('weekend', 2766),\n",
       " ('small', 3787),\n",
       " ('part', 2240),\n",
       " ('welcome', 4699),\n",
       " ('mat', 55),\n",
       " ('kellys', 86),\n",
       " ('mega', 8),\n",
       " ('efficient', 328),\n",
       " ('including', 1884),\n",
       " ('precise', 39),\n",
       " ('directionsvery', 1),\n",
       " ('important', 442),\n",
       " ('town', 3878),\n",
       " ('oh', 373),\n",
       " ('btw', 78),\n",
       " ('cool', 2890),\n",
       " ('50s', 10),\n",
       " ('apt', 1390),\n",
       " ('spot', 3540),\n",
       " ('anything', 2534),\n",
       " ('minimum', 44),\n",
       " ('effort', 285),\n",
       " ('cheers', 98),\n",
       " ('conveniently', 1467),\n",
       " ('located', 6555),\n",
       " ('quiet', 12114),\n",
       " ('street', 5936),\n",
       " ('lower', 336),\n",
       " ('queen', 1578),\n",
       " ('anne', 1246),\n",
       " ('buscab', 1),\n",
       " ('ride', 2092),\n",
       " ('belltown', 508),\n",
       " ('downtown', 15698),\n",
       " ('addition', 522),\n",
       " ('booming', 4),\n",
       " ('right', 6733),\n",
       " ('alas', 14),\n",
       " ('visiting', 3002),\n",
       " ('job', 777),\n",
       " ('old', 1630),\n",
       " ('friends', 2848),\n",
       " ('schedule', 769),\n",
       " ('completely', 861),\n",
       " ('full', 2622),\n",
       " ('barely', 149),\n",
       " ('got', 3761),\n",
       " ('bad', 646),\n",
       " ('seemed', 768),\n",
       " ('aspect', 109),\n",
       " ('moved', 257),\n",
       " ('across', 1307),\n",
       " ('city', 8486),\n",
       " ('easily', 2484),\n",
       " ('muy', 152),\n",
       " ('limpio', 22),\n",
       " ('espacioso', 2),\n",
       " ('fue', 42),\n",
       " ('agradable', 17),\n",
       " ('lo', 56),\n",
       " ('mas', 13),\n",
       " ('importante', 3),\n",
       " ('es', 278),\n",
       " ('que', 234),\n",
       " ('esta', 13),\n",
       " ('cerca', 21),\n",
       " ('de', 832),\n",
       " ('prácticamente', 1),\n",
       " ('todo', 61),\n",
       " ('nos', 70),\n",
       " ('permitió', 1),\n",
       " ('movernos', 1),\n",
       " ('fácilmente', 2),\n",
       " ('por', 40),\n",
       " ('la', 637),\n",
       " ('cuidad', 1),\n",
       " ('night', 7133),\n",
       " ('linen', 90),\n",
       " ('towels', 2544),\n",
       " ('provided', 6074),\n",
       " ('air', 1771),\n",
       " ('mattress', 765),\n",
       " ('superb', 394),\n",
       " ('neighbourhood', 1741),\n",
       " ('practical', 97),\n",
       " ('cafes', 1090),\n",
       " ('reachable', 132),\n",
       " ('foot', 601),\n",
       " ('30', 484),\n",
       " ('bus', 8182),\n",
       " ('10', 1864),\n",
       " ('although', 2258),\n",
       " ('working', 736),\n",
       " ('havent', 110),\n",
       " ('listing', 2750),\n",
       " ('exactly', 5113),\n",
       " ('described', 4519),\n",
       " ('wonderful', 12231),\n",
       " ('cleen', 1),\n",
       " ('moment', 517),\n",
       " ('one', 9585),\n",
       " ('evening', 1332),\n",
       " ('varied', 26),\n",
       " ('us', 31834),\n",
       " ('also', 14336),\n",
       " ('walking', 9667),\n",
       " ('distance', 7544),\n",
       " ('lots', 4702),\n",
       " ('recommend', 16449),\n",
       " ('others', 1266),\n",
       " ('traveling', 1169),\n",
       " ('nicer', 384),\n",
       " ('live', 1169),\n",
       " ('price', 1618),\n",
       " ('wine', 1581),\n",
       " ('conversation', 397),\n",
       " ('definitely', 15313),\n",
       " ('see', 4053),\n",
       " ('visit', 6370),\n",
       " ('next', 6148),\n",
       " ('staying', 11251),\n",
       " ('block', 1904),\n",
       " ('public', 2730),\n",
       " ('transportation', 2084),\n",
       " ('keys', 913),\n",
       " ('access', 4929),\n",
       " ('timing', 67),\n",
       " ('extremely', 4149),\n",
       " ('flexible', 1796),\n",
       " ('nothing', 911),\n",
       " ('fancy', 202),\n",
       " ('negative', 260),\n",
       " ('shower', 2566),\n",
       " ('drain', 41),\n",
       " ('amazing', 6878),\n",
       " ('made', 12534),\n",
       " ('pleasurable', 33),\n",
       " ('ideal', 1288),\n",
       " ('anyone', 3922),\n",
       " ('highly', 8357),\n",
       " ('recommended', 2679),\n",
       " ('despite', 542),\n",
       " ('late', 3184),\n",
       " ('booking', 1157),\n",
       " ('request', 605),\n",
       " ('rachel', 198),\n",
       " ('jon', 317),\n",
       " ('responsive', 3857),\n",
       " ('helpful', 10197),\n",
       " ('email', 1072),\n",
       " ('house', 22724),\n",
       " ('wellfurnished', 60),\n",
       " ('cat', 1153),\n",
       " ('company', 399),\n",
       " ('lovely', 8964),\n",
       " ('experience', 11980),\n",
       " ('farmhouse', 21),\n",
       " ('closed', 265),\n",
       " ('kitten', 19),\n",
       " ('friendly', 9411),\n",
       " ('hosts', 8117),\n",
       " ('tight', 278),\n",
       " ('checkin', 2030),\n",
       " ('reservation', 1395),\n",
       " ('luggages', 22),\n",
       " ('coats', 13),\n",
       " ('big', 2448),\n",
       " ('closet', 802),\n",
       " ('given', 717),\n",
       " ('spare', 132),\n",
       " ('key', 1426),\n",
       " ('youre', 2371),\n",
       " ('free', 1487),\n",
       " ('go', 5284),\n",
       " ('confortable', 169),\n",
       " ('recommand', 36),\n",
       " ('going', 2418),\n",
       " ('delightful', 872),\n",
       " ('bright', 988),\n",
       " ('breakfast', 3452),\n",
       " ('morning', 3723),\n",
       " ('arrived', 4842),\n",
       " ('brigette', 1),\n",
       " ('greeted', 1290),\n",
       " ('couple', 2932),\n",
       " ('sleep', 2020),\n",
       " ('super', 8009),\n",
       " ('near', 2994),\n",
       " ('bars', 3523),\n",
       " ('sleeping', 925),\n",
       " ('busy', 1204),\n",
       " ('sightseeing', 473),\n",
       " ('day', 6573),\n",
       " ('love', 3402),\n",
       " ('added', 609),\n",
       " ('bonus', 915),\n",
       " ('downside', 310),\n",
       " ('needed', 10762),\n",
       " ('extra', 1972),\n",
       " ('wake', 237),\n",
       " ('early', 2198),\n",
       " ('rachels', 34),\n",
       " ('im', 2384),\n",
       " ('sure', 5209),\n",
       " ('theyre', 216),\n",
       " ('another', 1499),\n",
       " ('bread', 377),\n",
       " ('beverages', 174),\n",
       " ('unfortunately', 654),\n",
       " ('enjoy', 2220),\n",
       " ('prompt', 937),\n",
       " ('communication', 2956),\n",
       " ('rooms', 1322),\n",
       " ('relaxing', 1452),\n",
       " ('decor', 851),\n",
       " ('guys', 418),\n",
       " ('immediately', 982),\n",
       " ('ease', 403),\n",
       " ('advertised', 1498),\n",
       " ('know', 2427),\n",
       " ('resources', 85),\n",
       " ('amusing', 8),\n",
       " ('locate', 87),\n",
       " ('arrangement', 102),\n",
       " ('works', 499),\n",
       " ('fine', 1325),\n",
       " ('even', 11105),\n",
       " ('consistent', 36),\n",
       " ('description', 1535),\n",
       " ('useful', 579),\n",
       " ('information', 2560),\n",
       " ('takes', 764),\n",
       " ('bit', 3358),\n",
       " ('though', 3258),\n",
       " ('obliging', 11),\n",
       " ('communicative', 1050),\n",
       " ('gave', 4611),\n",
       " ('valuable', 67),\n",
       " ('tips', 1367),\n",
       " ('explore', 1644),\n",
       " ('invited', 288),\n",
       " ('concert', 99),\n",
       " ('bed', 11391),\n",
       " ('enough', 4160),\n",
       " ('two', 5796),\n",
       " ('furthermore', 53),\n",
       " ('bathroom', 6991),\n",
       " ('kitchen', 8228),\n",
       " ('could', 8184),\n",
       " ('complain', 90),\n",
       " ('jons', 74),\n",
       " ('instantly', 194),\n",
       " ('letting', 440),\n",
       " ('group', 932),\n",
       " ('four', 981),\n",
       " ('checkout', 779),\n",
       " ('times', 1767),\n",
       " ('charming', 2223),\n",
       " ('within', 5640),\n",
       " ('many', 4954),\n",
       " ('seattles', 607),\n",
       " ('sights', 523),\n",
       " ('areas', 1142),\n",
       " ('peaceful', 1447),\n",
       " ('touch', 1539),\n",
       " ('gracious', 2176),\n",
       " ('shared', 1163),\n",
       " ('getting', 2679),\n",
       " ('ready', 1303),\n",
       " ('work', 2961),\n",
       " ('rest', 1092),\n",
       " ('open', 1801),\n",
       " ('beautifully', 1027),\n",
       " ('decorated', 2287),\n",
       " ('plans', 435),\n",
       " ('lounge', 203),\n",
       " ('especially', 2358),\n",
       " ('kitty', 118),\n",
       " ('quite', 3397),\n",
       " ('weather', 894),\n",
       " ('friend', 1792),\n",
       " ('walked', 1926),\n",
       " ('waterfront', 619),\n",
       " ('took', 2432),\n",
       " ('35', 103),\n",
       " ('minutes', 3852),\n",
       " ('return', 2143),\n",
       " ('inspiring', 89),\n",
       " ('brief', 362),\n",
       " ('feel', 7896),\n",
       " ('brigitte', 9),\n",
       " ('friendliest', 62),\n",
       " ('ive', 1134),\n",
       " ('met', 3177),\n",
       " ('convenient', 7000),\n",
       " ('miles', 375),\n",
       " ('capitol', 3347),\n",
       " ('hill', 5350),\n",
       " ('fun', 3073),\n",
       " ('browsing', 26),\n",
       " ('art', 976),\n",
       " ('doodads', 1),\n",
       " ('john', 969),\n",
       " ('opened', 229),\n",
       " ('lock', 459),\n",
       " ('box', 322),\n",
       " ('trouble', 623),\n",
       " ('accessible', 1442),\n",
       " ('fruit', 907),\n",
       " ('nuts', 30),\n",
       " ('guests', 2698),\n",
       " ('greatly', 354),\n",
       " ('appreciated', 2924),\n",
       " ('option', 440),\n",
       " ('sweet', 2157),\n",
       " ('baked', 337),\n",
       " ('homemade', 316),\n",
       " ('cookies', 337),\n",
       " ('tasted', 29),\n",
       " ('hr', 29),\n",
       " ('flight', 1097),\n",
       " ('thank', 5357),\n",
       " ('wifi', 1946),\n",
       " ('list', 807),\n",
       " ('spots', 1000),\n",
       " ('check', 4885),\n",
       " ('safe', 3486),\n",
       " ('five', 661),\n",
       " ('star', 311),\n",
       " ('helped', 1743),\n",
       " ('since', 2336),\n",
       " ('later', 799),\n",
       " ('shortly', 69),\n",
       " ('slept', 1411),\n",
       " ('comfortably', 575),\n",
       " ('corner', 1082),\n",
       " ('furnished', 1072),\n",
       " ('chilly', 177),\n",
       " ('private', 5638),\n",
       " ('complimentary', 213),\n",
       " ('drinks', 545),\n",
       " ('dairyfree', 1),\n",
       " ('alternative', 190),\n",
       " ('delicious', 1308),\n",
       " ('hazelnut', 2),\n",
       " ('milk', 347),\n",
       " ('lactoseintolerant', 1),\n",
       " ('people', 4223),\n",
       " ('able', 4543),\n",
       " ('matched', 86),\n",
       " ('little', 8305),\n",
       " ('ad', 98),\n",
       " ('ended', 600),\n",
       " ('hanging', 365),\n",
       " ('dreamy', 36),\n",
       " ('awesome', 5190),\n",
       " ('greet', 400),\n",
       " ('provide', 814),\n",
       " ('guidance', 67),\n",
       " ('directions', 1309),\n",
       " ('insider', 22),\n",
       " ('enjoyed', 9079),\n",
       " ('comfy', 3534),\n",
       " ('absolutely', 3579),\n",
       " ('welcomed', 1731),\n",
       " ('second', 1349),\n",
       " ('stepped', 70),\n",
       " ('almost', 1078),\n",
       " ('never', 2802),\n",
       " ('insight', 79),\n",
       " ('shaped', 9),\n",
       " ('vacation', 956),\n",
       " ('best', 4479),\n",
       " ('far', 2148),\n",
       " ('filled', 451),\n",
       " ('lush', 131),\n",
       " ('plants', 147),\n",
       " ('photos', 1346),\n",
       " ('evidence', 16),\n",
       " ('pet', 131),\n",
       " ('odor', 52),\n",
       " ('hair', 402),\n",
       " ('natural', 553),\n",
       " ('lighting', 249),\n",
       " ('worry', 337),\n",
       " ('bedroom', 3539),\n",
       " ('heavy', 133),\n",
       " ('curtain', 101),\n",
       " ('blocking', 21),\n",
       " ('sun', 371),\n",
       " ('long', 2382),\n",
       " ('please', 216),\n",
       " ('thing', 1609),\n",
       " ('come', 4308),\n",
       " ('back', 9326),\n",
       " ('exploring', 1502),\n",
       " ('district', 1113),\n",
       " ('literally', 633),\n",
       " ('everywhere', 1381),\n",
       " ('wanted', 2510),\n",
       " ('set', 1686),\n",
       " ('bar', 923),\n",
       " ('high', 939),\n",
       " ('future', 1838),\n",
       " ('airbnb', 7372),\n",
       " ('experiences', 352),\n",
       " ('try', 1004),\n",
       " ('travel', 1469),\n",
       " ('everyone', 891),\n",
       " ('places', 4613),\n",
       " ('world', 323),\n",
       " ('heartbeat', 504),\n",
       " ('talking', 368),\n",
       " ('duo', 4),\n",
       " ('amazingly', 285),\n",
       " ('pretty', 2832),\n",
       " ('darn', 21),\n",
       " ('opening', 225),\n",
       " ('short', 5288),\n",
       " ('cab', 414),\n",
       " ('roomhouse', 26),\n",
       " ('mile', 681),\n",
       " ('cheap', 314),\n",
       " ('uber', 1259),\n",
       " ('cats', 796),\n",
       " ('dont', 2283),\n",
       " ('sometimes', 264),\n",
       " ('sensitive', 156),\n",
       " ('way', 3843),\n",
       " ('petting', 20),\n",
       " ('delayed', 260),\n",
       " ('mind', 719),\n",
       " ('bc', 67),\n",
       " ('loved', 7941),\n",
       " ('longer', 1248),\n",
       " ('plus', 2122),\n",
       " ('dope', 9),\n",
       " ('incredibly', 1759),\n",
       " ('let', 2089),\n",
       " ('drop', 471),\n",
       " ('bags', 607),\n",
       " ('several', 1801),\n",
       " ('hours', 1110),\n",
       " ('make', 5772),\n",
       " ('pleased', 687),\n",
       " ('adorable', 1285),\n",
       " ('first', 8169),\n",
       " ('totally', 1087),\n",
       " ('contact', 1139),\n",
       " ('arrival', 4770),\n",
       " ('exceptionally', 253),\n",
       " ('possible', 691),\n",
       " ('keep', 1022),\n",
       " ('95', 14),\n",
       " ('degree', 61),\n",
       " ('heat', 619),\n",
       " ('offered', 1593),\n",
       " ('suggestions', 1833),\n",
       " ('yeah', 40),\n",
       " ('cuddly', 36),\n",
       " ('lovable', 39),\n",
       " ('classic', 94),\n",
       " ('middle', 705),\n",
       " ('wave', 175),\n",
       " ('still', 1583),\n",
       " ('napping', 17),\n",
       " ('midday', 14),\n",
       " ('treats', 415),\n",
       " ('snack', 165),\n",
       " ('missed', 245),\n",
       " ('paths', 178),\n",
       " ('behold', 7),\n",
       " ('knew', 625),\n",
       " ('school', 158),\n",
       " ('sipping', 41),\n",
       " ('catching', 85),\n",
       " ('trips', 435),\n",
       " ('incredible', 1014),\n",
       " ('hospitality', 1282),\n",
       " ('hoped', 274),\n",
       " ('shop', 1016),\n",
       " ('fruits', 166),\n",
       " ('labour', 10),\n",
       " ('blueberry', 35),\n",
       " ('picking', 108),\n",
       " ('enjoyable', 1024),\n",
       " ('knowing', 156),\n",
       " ('returning', 391),\n",
       " ('somewhere', 240),\n",
       " ('chose', 425),\n",
       " ('proximity', 692),\n",
       " ('daughters', 240),\n",
       " ('learned', 111),\n",
       " ('use', 4220),\n",
       " ('french', 344),\n",
       " ('press', 208),\n",
       " ('sunny', 388),\n",
       " ('terms', 294),\n",
       " ('nestled', 140),\n",
       " ('commuting', 61),\n",
       " ('relatively', 267),\n",
       " ('note', 1018),\n",
       " ('relied', 29),\n",
       " ('cabs', 79),\n",
       " ('lyfts', 3),\n",
       " ('top', 1432),\n",
       " ('brigit', 2),\n",
       " ('utterly', 28),\n",
       " ('spend', 1293),\n",
       " ('recommendstay', 4),\n",
       " ('kelli', 35),\n",
       " ('boyfriend', 959),\n",
       " ('run', 705),\n",
       " ('huge', 1193),\n",
       " ('informative', 430),\n",
       " ('lists', 41),\n",
       " ('highlights', 126),\n",
       " ('beer', 567),\n",
       " ('scene', 130),\n",
       " ('covered', 228),\n",
       " ('perfectly', 1871),\n",
       " ('timers', 26),\n",
       " ('pike', 2415),\n",
       " ('fremont', 2400),\n",
       " ('slightly', 212),\n",
       " ('north', 513),\n",
       " ('kellis', 8),\n",
       " ('lastly', 95),\n",
       " ('kerri', 3),\n",
       " ('receive', 78),\n",
       " ('views', 2292),\n",
       " ('skyline', 225),\n",
       " ('phenomenal', 180),\n",
       " ('emerald', 85),\n",
       " ('foremost', 23),\n",
       " ('install', 12),\n",
       " ('keybox', 8),\n",
       " ('whole', 1799),\n",
       " ('trip', 5680),\n",
       " ('apparent', 51),\n",
       " ('cares', 87),\n",
       " ('wife', 1449),\n",
       " ('problems', 729),\n",
       " ('futon', 334),\n",
       " ('folded', 27),\n",
       " ('surprisingly', 266),\n",
       " ('pillows', 584),\n",
       " ('decoration', 106),\n",
       " ('attending', 302),\n",
       " ('pax', 50),\n",
       " ('breeze', 832),\n",
       " ('finally', 275),\n",
       " ('final', 70),\n",
       " ('dog', 1703),\n",
       " ('bundle', 6),\n",
       " ('reservations', 86),\n",
       " ('music', 509),\n",
       " ('tidy', 1179),\n",
       " ('vegetarian', 29),\n",
       " ('eat', 2197),\n",
       " ('punk', 3),\n",
       " ('turns', 67),\n",
       " ('common', 459),\n",
       " ('locations', 334),\n",
       " ('either', 633),\n",
       " ('blast', 168),\n",
       " ('wouldnt', 740),\n",
       " ('hesitate', 688),\n",
       " ('heading', 233),\n",
       " ('cutest', 119),\n",
       " ('sign', 119),\n",
       " ('blackboard', 9),\n",
       " ('read', 452),\n",
       " ('carmen', 78),\n",
       " ('ask', 1020),\n",
       " ('cannot', 545),\n",
       " ('wrong', 255),\n",
       " ('suggestion', 121),\n",
       " ('liked', 1158),\n",
       " ('days', 3811),\n",
       " ('relaxed', 469),\n",
       " ('joe', 458),\n",
       " ('sparks', 1),\n",
       " ('lady', 195),\n",
       " ('problem', 2008),\n",
       " ('record', 148),\n",
       " ('restaurant', 1289),\n",
       " ('recommendations', 2436),\n",
       " ('beyond', 1189),\n",
       " ('car', 3909),\n",
       " ('ton', 390),\n",
       " ('shops', 4485),\n",
       " ('looks', 919),\n",
       " ('pictures', 2378),\n",
       " ('question', 474),\n",
       " ('advice', 906),\n",
       " ('willing', 568),\n",
       " ('help', 2110),\n",
       " ('text', 1069),\n",
       " ('map', 369),\n",
       " ('newspapers', 8),\n",
       " ('soon', 1002),\n",
       " ('attractions', 1574),\n",
       " ('steps', 674),\n",
       " ('lines', 642),\n",
       " ('excellent', 5398),\n",
       " ('privacy', 2477),\n",
       " ('issues', 972),\n",
       " ('keeps', 155),\n",
       " ('impeccably', 187),\n",
       " ('dustfree', 2),\n",
       " ('asthmatic', 2),\n",
       " ('doggy', 14),\n",
       " ('desi', 1),\n",
       " ('hard', 804),\n",
       " ('leave', 1480),\n",
       " ('advices', 71),\n",
       " ('miss', 419),\n",
       " ('charli', 1),\n",
       " ('hospitable', 962),\n",
       " ('god', 37),\n",
       " ('bless', 13),\n",
       " ('size', 1163),\n",
       " ('12', 442),\n",
       " ('accomodating', 363),\n",
       " ('sharing', 646),\n",
       " ('shopping', 1369),\n",
       " ('centre', 380),\n",
       " ('buses', 824),\n",
       " ('knows', 227),\n",
       " ('hints', 50),\n",
       " ('memorable', 286),\n",
       " ('couldnt', 2496),\n",
       " ('better', 4028),\n",
       " ('iconic', 22),\n",
       " ('slew', 10),\n",
       " ('cultural', 28),\n",
       " ('hubs', 7),\n",
       " ('recommendation', 273),\n",
       " ('dishes', 438),\n",
       " ('multiple', 369),\n",
       " ('stops', 757),\n",
       " ('bring', 695),\n",
       " ('farther', 66),\n",
       " ('example', 146),\n",
       " ('university', 1038),\n",
       " ('washington', 1046),\n",
       " ('arboretum', 131),\n",
       " ('40', 150),\n",
       " ('sweetest', 140),\n",
       " ('proven', 4),\n",
       " ('scrumptious', 16),\n",
       " ('freshly', 154),\n",
       " ('surely', 116),\n",
       " ('melt', 4),\n",
       " ('heart', 1197),\n",
       " ('accidentally', 82),\n",
       " ('charger', 51),\n",
       " ('boarding', 25),\n",
       " ('plane', 104),\n",
       " ('mailed', 39),\n",
       " ('asked', 1549),\n",
       " ('booked', 944),\n",
       " ('answering', 301),\n",
       " ('questions', 4496),\n",
       " ('giving', 653),\n",
       " ('sorts', 155),\n",
       " ('mapsguides', 6),\n",
       " ('pays', 29),\n",
       " ('attention', 600),\n",
       " ('details', 958),\n",
       " ('chocolatesmints', 1),\n",
       " ('fridge', 1905),\n",
       " ('tea', 1373),\n",
       " ('terrific', 785),\n",
       " ('ex', 9),\n",
       " ('arena', 73),\n",
       " ('monorail', 257),\n",
       " ('etc', 3140),\n",
       " ('true', 491),\n",
       " ('tv', 1869),\n",
       " ('kick', 54),\n",
       " ('relax', 1045),\n",
       " ('couch', 851),\n",
       " ('hot', 2004),\n",
       " ('lucky', 492),\n",
       " ('charlie', 78),\n",
       " ('normally', 91),\n",
       " ('courtney', 56),\n",
       " ('ranged', 6),\n",
       " ('indifferent', 1),\n",
       " ('secondfloor', 3),\n",
       " ('light', 3612),\n",
       " ('gas', 341),\n",
       " ('wedding', 733),\n",
       " ('stone', 55),\n",
       " ('welcomend', 1),\n",
       " ('adams', 103),\n",
       " ('douzens', 1),\n",
       " ('squirrels', 23),\n",
       " ('garden', 2431),\n",
       " ('famous', 129),\n",
       " ('freemont', 189),\n",
       " ('troll', 120),\n",
       " ('definetly', 54),\n",
       " ('matthias', 1),\n",
       " ('anna', 515),\n",
       " ('large', 2309),\n",
       " ('adam', 396),\n",
       " ('odd', 166),\n",
       " ('windows', 1554),\n",
       " ('floor', 1886),\n",
       " ('drapes', 9),\n",
       " ('hardwoods', 3),\n",
       " ('spotless', 874),\n",
       " ('magnificent', 89),\n",
       " ('hope', 2072),\n",
       " ('person', 2322),\n",
       " ('choice', 724),\n",
       " ('stayed', 7102),\n",
       " ('months', 327),\n",
       " ('25', 255),\n",
       " ('reach', 612),\n",
       " ('busbikingwalking', 1),\n",
       " ('20', 908),\n",
       " ('ballard', 3938),\n",
       " ('wallingford', 535),\n",
       " ('last', 1966),\n",
       " ('lunchdinner', 3),\n",
       " ('philip', 25),\n",
       " ('curated', 22),\n",
       " ('selection', 378),\n",
       " ('personal', 731),\n",
       " ('favourites', 4),\n",
       " ('every', 3366),\n",
       " ('tried', 363),\n",
       " ('sublime', 15),\n",
       " ('jammed', 10),\n",
       " ('together', 552),\n",
       " ('shows', 187),\n",
       " ('average', 87),\n",
       " ('impersonal', 24),\n",
       " ('sparse', 44),\n",
       " ('maybe', 450),\n",
       " ('werent', 533),\n",
       " ('spending', 327),\n",
       " ('amount', 472),\n",
       " ('parts', 489),\n",
       " ('ill', 699),\n",
       " ('hit', 225),\n",
       " ('girlfriend', 678),\n",
       " ('nights', 2740),\n",
       " ('real', 901),\n",
       " ('roommate', 212),\n",
       " ('hotel', 2353),\n",
       " ('connect', 131),\n",
       " ('conversations', 355),\n",
       " ('serving', 31),\n",
       " ('craft', 72),\n",
       " ('chance', 1291),\n",
       " ('delighted', 145),\n",
       " ('mara', 4),\n",
       " ('throughout', 1392),\n",
       " ('arranged', 339),\n",
       " ('walkable', 1207),\n",
       " ('dine', 69),\n",
       " ('take', 2546),\n",
       " ('broadway', 388),\n",
       " ('walkalbe', 1),\n",
       " ('housemate', 38),\n",
       " ('philps', 1),\n",
       " ('ok', 495),\n",
       " ('wont', 513),\n",
       " ('regret', 302),\n",
       " ('roger', 323),\n",
       " ('latenight', 32),\n",
       " ('responding', 339),\n",
       " ('quickly', 1797),\n",
       " ('plenty', 4211),\n",
       " ('things', 4422),\n",
       " ('我们是一家三口', 1),\n",
       " ('可爱的女儿', 1),\n",
       " ('夫妻二人都是中国来的访问学者', 1),\n",
       " ('来到美丽的西雅图', 1),\n",
       " ('住在了roger的房子里', 1),\n",
       " ('房子位于美丽的艺术小镇fremont', 1),\n",
       " ('有各种各样的雕塑', 1),\n",
       " ('还有宇宙中心的路标', 1),\n",
       " ('各种小店的橱窗也是充满特色', 1),\n",
       " ('富有艺术气息', 1),\n",
       " ('安静美丽的小镇', 1),\n",
       " ('充满了秋天的味道', 1),\n",
       " ('离西雅图市区比较近', 1),\n",
       " ('房子位置好', 1),\n",
       " ('能从窗户里看到rainer山', 1),\n",
       " ('很不幸我们没有看到', 1),\n",
       " ('fit', 698),\n",
       " ('needs', 2525),\n",
       " ('legs', 28),\n",
       " ('budget', 147),\n",
       " ('3bedroom', 5),\n",
       " ('duplex', 75),\n",
       " ('rumor', 1),\n",
       " ('someone', 738),\n",
       " ('lives', 481),\n",
       " ('least', 348),\n",
       " ('attached', 214),\n",
       " ('thats', 768),\n",
       " ('tons', 838),\n",
       " ('rogers', 101),\n",
       " ('warning', 80),\n",
       " ('isnt', 566),\n",
       " ('door', 2757),\n",
       " ('concerned', 195),\n",
       " ('might', 1481),\n",
       " ('solo', 125),\n",
       " ('sitting', 589),\n",
       " ('rad', 55),\n",
       " ('hes', 304),\n",
       " ('nearby', 3433),\n",
       " ('event', 289),\n",
       " ('came', 2065),\n",
       " ('sorted', 49),\n",
       " ('view', 5941),\n",
       " ('window', 918),\n",
       " ('definite', 95),\n",
       " ('canceled', 828),\n",
       " ('21', 46),\n",
       " ('automated', 812),\n",
       " ('posting', 890),\n",
       " ('miesha', 40),\n",
       " ('term', 150),\n",
       " ('trying', 350),\n",
       " ('turn', 252),\n",
       " ('else', 852),\n",
       " ('recently', 297),\n",
       " ('mieshas', 6),\n",
       " ('guest', 1904),\n",
       " ('searching', 63),\n",
       " ('permanent', 69),\n",
       " ('living', 2957),\n",
       " ('situation', 334),\n",
       " ('spa', 124),\n",
       " ('heated', 415),\n",
       " ('floors', 554),\n",
       " ('towel', 197),\n",
       " ('warmer', 107),\n",
       " ('furniture', 505),\n",
       " ('included', 646),\n",
       " ('switched', 22),\n",
       " ('chair', 268),\n",
       " ('desk', 351),\n",
       " ('quit', 27),\n",
       " ('worked', 1872),\n",
       " ('extend', 80),\n",
       " ('ongoing', 20),\n",
       " ('search', 67),\n",
       " ('hand', 408),\n",
       " ('rainiest', 1),\n",
       " ('cant', 2033),\n",
       " ('imagine', 345),\n",
       " ('starting', 159),\n",
       " ('life', 631),\n",
       " ('farah', 37),\n",
       " ('ben', 154),\n",
       " ('month', 541),\n",
       " ('easygoing', 216),\n",
       " ('chat', 566),\n",
       " ('that', 17),\n",
       " ('you', 97),\n",
       " ('re', 81),\n",
       " ('feeling', 621),\n",
       " ('checked', 1213),\n",
       " ('store', 1634),\n",
       " ('wd', 18),\n",
       " ('stop', 1977),\n",
       " ('parking', 7786),\n",
       " ('entire', 1157),\n",
       " ...]"
      ]
     },
     "execution_count": 56,
     "metadata": {},
     "output_type": "execute_result"
    }
   ],
   "source": [
    "freq_comments_words"
   ]
  },
  {
   "cell_type": "code",
   "execution_count": 50,
   "metadata": {},
   "outputs": [
    {
     "name": "stdout",
     "output_type": "stream",
     "text": [
      "[[1 1 2 ... 1 1 1]]\n"
     ]
    }
   ],
   "source": [
    "print(sum_comments_words)"
   ]
  },
  {
   "cell_type": "markdown",
   "metadata": {},
   "source": [
    "### reverse the process fro vector to words"
   ]
  },
  {
   "cell_type": "markdown",
   "metadata": {},
   "source": [
    "now extract a single comment and see how the vectorized one looks like"
   ]
  },
  {
   "cell_type": "code",
   "execution_count": 20,
   "metadata": {},
   "outputs": [],
   "source": [
    "#extrac the third comment\n",
    "comments2=seattle_reviews_cleaned[\"comments\"][2]"
   ]
  },
  {
   "cell_type": "code",
   "execution_count": 23,
   "metadata": {},
   "outputs": [],
   "source": [
    "# apply the comments_vectorizer to the comments\n",
    "vectorized_comments2=comments_vectorizer.transform([comments2])"
   ]
  },
  {
   "cell_type": "code",
   "execution_count": 25,
   "metadata": {},
   "outputs": [
    {
     "name": "stdout",
     "output_type": "stream",
     "text": [
      "  (0, 2830)\t1\n",
      "  (0, 3468)\t1\n",
      "  (0, 3505)\t2\n",
      "  (0, 3824)\t1\n",
      "  (0, 4580)\t1\n",
      "  (0, 5810)\t1\n",
      "  (0, 7800)\t1\n",
      "  (0, 13002)\t1\n",
      "  (0, 13785)\t1\n",
      "  (0, 14530)\t1\n",
      "  (0, 17146)\t1\n",
      "  (0, 18120)\t1\n",
      "  (0, 19172)\t1\n",
      "  (0, 19770)\t1\n",
      "  (0, 23708)\t1\n",
      "  (0, 24755)\t1\n",
      "  (0, 24960)\t1\n",
      "  (0, 28212)\t1\n",
      "  (0, 30249)\t1\n",
      "  (0, 32614)\t2\n",
      "  (0, 33514)\t1\n",
      "  (0, 33837)\t1\n",
      "  (0, 34136)\t1\n",
      "  (0, 36084)\t1\n",
      "  (0, 36124)\t1\n",
      "  (0, 37086)\t1\n",
      "  (0, 40296)\t1\n",
      "  (0, 41342)\t1\n",
      "  (0, 47876)\t1\n",
      "  (0, 48935)\t1\n"
     ]
    }
   ],
   "source": [
    "# check what the vectorized one looks like. Each vector( 0,2830) represents a single words.\n",
    "print(vectorized_comments2)"
   ]
  },
  {
   "cell_type": "markdown",
   "metadata": {},
   "source": [
    "it seems that 3505  and 32614 appear twice, I am wondering what these two words are?"
   ]
  },
  {
   "cell_type": "code",
   "execution_count": 27,
   "metadata": {},
   "outputs": [
    {
     "data": {
      "text/plain": [
       "'apartment'"
      ]
     },
     "execution_count": 27,
     "metadata": {},
     "output_type": "execute_result"
    }
   ],
   "source": [
    "comments_vectorizer.get_feature_names()[3505]"
   ]
  },
  {
   "cell_type": "code",
   "execution_count": 28,
   "metadata": {},
   "outputs": [
    {
     "data": {
      "text/plain": [
       "'park'"
      ]
     },
     "execution_count": 28,
     "metadata": {},
     "output_type": "execute_result"
    }
   ],
   "source": [
    "comments_vectorizer.get_feature_names()[32614]"
   ]
  },
  {
   "cell_type": "markdown",
   "metadata": {},
   "source": [
    "### term frequency-invserse documents frequency"
   ]
  },
  {
   "cell_type": "markdown",
   "metadata": {},
   "source": [
    "tfidf is intended to reflect how important a word is to a document in a collection or corpus. The tf–idf value increases proportionally to the number of times a word appears in the document "
   ]
  },
  {
   "cell_type": "code",
   "execution_count": 34,
   "metadata": {},
   "outputs": [],
   "source": [
    "tfidf_comments_transformer=TfidfTransformer()"
   ]
  },
  {
   "cell_type": "code",
   "execution_count": 36,
   "metadata": {},
   "outputs": [
    {
     "data": {
      "text/plain": [
       "TfidfTransformer(norm='l2', smooth_idf=True, sublinear_tf=False, use_idf=True)"
      ]
     },
     "execution_count": 36,
     "metadata": {},
     "output_type": "execute_result"
    }
   ],
   "source": [
    "# must use vectroized text, raw text will not work\n",
    "tfidf_comments_transformer.fit(vectorized_seattle_reviews)"
   ]
  },
  {
   "cell_type": "code",
   "execution_count": 43,
   "metadata": {},
   "outputs": [],
   "source": [
    "tfidfed_seattle_comments=tfidf_comments_transformer.transform(vectorized_seattle_reviews)"
   ]
  },
  {
   "cell_type": "markdown",
   "metadata": {},
   "source": [
    "lets check a tfidfed comment looks like"
   ]
  },
  {
   "cell_type": "code",
   "execution_count": 37,
   "metadata": {},
   "outputs": [],
   "source": [
    "tfidf_comments2=tfidf_comments_transformer.transform(vectorized_comments2)"
   ]
  },
  {
   "cell_type": "code",
   "execution_count": 38,
   "metadata": {},
   "outputs": [
    {
     "name": "stdout",
     "output_type": "stream",
     "text": [
      "  (0, 48935)\t0.17878729327834056\n",
      "  (0, 47876)\t0.14776820462399365\n",
      "  (0, 41342)\t0.13395103799583064\n",
      "  (0, 40296)\t0.28738536159076855\n",
      "  (0, 37086)\t0.19032661741706636\n",
      "  (0, 36124)\t0.09926131154458202\n",
      "  (0, 36084)\t0.2297490959594253\n",
      "  (0, 34136)\t0.24503745958164794\n",
      "  (0, 33837)\t0.06703262833782382\n",
      "  (0, 33514)\t0.19592606949685035\n",
      "  (0, 32614)\t0.29102658328477093\n",
      "  (0, 30249)\t0.09032151942275463\n",
      "  (0, 28212)\t0.14603743651835024\n",
      "  (0, 24960)\t0.14332985579177782\n",
      "  (0, 24755)\t0.23440024002717316\n",
      "  (0, 23708)\t0.18315151967054372\n",
      "  (0, 19770)\t0.058308345347210626\n",
      "  (0, 19172)\t0.10842817002944863\n",
      "  (0, 18120)\t0.2521351543661006\n",
      "  (0, 17146)\t0.20058977956056\n",
      "  (0, 14530)\t0.09241234485536451\n",
      "  (0, 13785)\t0.2443120821977109\n",
      "  (0, 13002)\t0.12565138012207785\n",
      "  (0, 7800)\t0.20337281516236608\n",
      "  (0, 5810)\t0.23809021558716045\n",
      "  (0, 4580)\t0.13789449655043964\n",
      "  (0, 3824)\t0.10824095642052464\n",
      "  (0, 3505)\t0.17670069546913336\n",
      "  (0, 3468)\t0.1898431729064038\n",
      "  (0, 2830)\t0.14712095666489394\n"
     ]
    }
   ],
   "source": [
    "print(tfidf_comments2)"
   ]
  },
  {
   "cell_type": "code",
   "execution_count": 41,
   "metadata": {},
   "outputs": [
    {
     "data": {
      "text/plain": [
       "2.56428731418519"
      ]
     },
     "execution_count": 41,
     "metadata": {},
     "output_type": "execute_result"
    }
   ],
   "source": [
    "#check inverse document frequency by searching the words\n",
    "tfidf_comments_transformer.idf_[comments_vectorizer.vocabulary_['apartment']]"
   ]
  },
  {
   "cell_type": "code",
   "execution_count": null,
   "metadata": {},
   "outputs": [],
   "source": []
  },
  {
   "cell_type": "code",
   "execution_count": null,
   "metadata": {},
   "outputs": [],
   "source": []
  },
  {
   "cell_type": "code",
   "execution_count": 10,
   "metadata": {},
   "outputs": [],
   "source": [
    "boston_reviews=pd.read_csv(\"boston/reviews.csv\")"
   ]
  },
  {
   "cell_type": "code",
   "execution_count": 11,
   "metadata": {},
   "outputs": [
    {
     "data": {
      "text/html": [
       "<div>\n",
       "<style scoped>\n",
       "    .dataframe tbody tr th:only-of-type {\n",
       "        vertical-align: middle;\n",
       "    }\n",
       "\n",
       "    .dataframe tbody tr th {\n",
       "        vertical-align: top;\n",
       "    }\n",
       "\n",
       "    .dataframe thead th {\n",
       "        text-align: right;\n",
       "    }\n",
       "</style>\n",
       "<table border=\"1\" class=\"dataframe\">\n",
       "  <thead>\n",
       "    <tr style=\"text-align: right;\">\n",
       "      <th></th>\n",
       "      <th>listing_id</th>\n",
       "      <th>id</th>\n",
       "      <th>date</th>\n",
       "      <th>reviewer_id</th>\n",
       "      <th>reviewer_name</th>\n",
       "      <th>comments</th>\n",
       "    </tr>\n",
       "  </thead>\n",
       "  <tbody>\n",
       "    <tr>\n",
       "      <th>0</th>\n",
       "      <td>1178162</td>\n",
       "      <td>4724140</td>\n",
       "      <td>2013-05-21</td>\n",
       "      <td>4298113</td>\n",
       "      <td>Olivier</td>\n",
       "      <td>My stay at islam's place was really cool! Good...</td>\n",
       "    </tr>\n",
       "    <tr>\n",
       "      <th>1</th>\n",
       "      <td>1178162</td>\n",
       "      <td>4869189</td>\n",
       "      <td>2013-05-29</td>\n",
       "      <td>6452964</td>\n",
       "      <td>Charlotte</td>\n",
       "      <td>Great location for both airport and city - gre...</td>\n",
       "    </tr>\n",
       "    <tr>\n",
       "      <th>2</th>\n",
       "      <td>1178162</td>\n",
       "      <td>5003196</td>\n",
       "      <td>2013-06-06</td>\n",
       "      <td>6449554</td>\n",
       "      <td>Sebastian</td>\n",
       "      <td>We really enjoyed our stay at Islams house. Fr...</td>\n",
       "    </tr>\n",
       "    <tr>\n",
       "      <th>3</th>\n",
       "      <td>1178162</td>\n",
       "      <td>5150351</td>\n",
       "      <td>2013-06-15</td>\n",
       "      <td>2215611</td>\n",
       "      <td>Marine</td>\n",
       "      <td>The room was nice and clean and so were the co...</td>\n",
       "    </tr>\n",
       "    <tr>\n",
       "      <th>4</th>\n",
       "      <td>1178162</td>\n",
       "      <td>5171140</td>\n",
       "      <td>2013-06-16</td>\n",
       "      <td>6848427</td>\n",
       "      <td>Andrew</td>\n",
       "      <td>Great location. Just 5 mins walk from the Airp...</td>\n",
       "    </tr>\n",
       "  </tbody>\n",
       "</table>\n",
       "</div>"
      ],
      "text/plain": [
       "   listing_id       id        date  reviewer_id reviewer_name  \\\n",
       "0     1178162  4724140  2013-05-21      4298113       Olivier   \n",
       "1     1178162  4869189  2013-05-29      6452964     Charlotte   \n",
       "2     1178162  5003196  2013-06-06      6449554     Sebastian   \n",
       "3     1178162  5150351  2013-06-15      2215611        Marine   \n",
       "4     1178162  5171140  2013-06-16      6848427        Andrew   \n",
       "\n",
       "                                            comments  \n",
       "0  My stay at islam's place was really cool! Good...  \n",
       "1  Great location for both airport and city - gre...  \n",
       "2  We really enjoyed our stay at Islams house. Fr...  \n",
       "3  The room was nice and clean and so were the co...  \n",
       "4  Great location. Just 5 mins walk from the Airp...  "
      ]
     },
     "execution_count": 11,
     "metadata": {},
     "output_type": "execute_result"
    }
   ],
   "source": [
    "boston_reviews.head()"
   ]
  },
  {
   "cell_type": "code",
   "execution_count": null,
   "metadata": {},
   "outputs": [],
   "source": []
  }
 ],
 "metadata": {
  "kernelspec": {
   "display_name": "Python 3",
   "language": "python",
   "name": "python3"
  },
  "language_info": {
   "codemirror_mode": {
    "name": "ipython",
    "version": 3
   },
   "file_extension": ".py",
   "mimetype": "text/x-python",
   "name": "python",
   "nbconvert_exporter": "python",
   "pygments_lexer": "ipython3",
   "version": "3.7.1"
  }
 },
 "nbformat": 4,
 "nbformat_minor": 2
}
